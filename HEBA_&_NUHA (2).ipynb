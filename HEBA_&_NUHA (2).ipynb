{
  "nbformat": 4,
  "nbformat_minor": 0,
  "metadata": {
    "colab": {
      "provenance": []
    },
    "kernelspec": {
      "name": "python3",
      "display_name": "Python 3"
    },
    "language_info": {
      "name": "python"
    }
  },
  "cells": [
    {
      "cell_type": "markdown",
      "source": [
        "#Emergency - 911 Calls\n",
        "For this  project we will be analyzing some 911 call data which i have uploaded on Github . \n",
        "student's work :\n",
        "1- Heba Alnashri\n",
        "2- Nuha Alhumam\n",
        "\n",
        "The data contains the following fields:\n",
        "\n",
        "lat : String variable, Latitude\n",
        "lng: String variable, Longitude\n",
        "desc: String variable, Description of the Emergency Call\n",
        "zip: String variable, Zipcode\n",
        "title: String variable, Title\n",
        "timeStamp: String variable, YYYY-MM-DD HH:MM:SS\n",
        "twp: String variable, Township\n",
        "addr: String variable, Address\n",
        "e: String variable, Dummy variable (always 1)\n",
        "Just go along with this notebook and try to complete the instructions or answer the questions in bold using your Python and Data Science skills!\n",
        "\n",
        "=> Python code and Dataset is available on my Github. https://github.com/hebaalnashri/Emergency---911-Calls-2.git\n",
        "\n",
        "=>To do Data Science with Python, I use Python with the following software libraries:\n",
        "\n",
        "Numpy: it contains many functions for numerical computation (vectors, matrices, polynomials, etc.).\n",
        "Matplotlib: it allows to trace and visualize data in the form of graphs.\n",
        "Pandas: it allows to manipulate and analyze data (dataframes).\n",
        "Seaborn: it complements Matplotlib by providing attractive statistical graphics.\n",
        "https://www.kaggle.com/datasets/mchirico/montcoalert"
      ],
      "metadata": {
        "id": "tQy5An0YqxvG"
      }
    },
    {
      "cell_type": "markdown",
      "source": [
        "We are import librarys"
      ],
      "metadata": {
        "id": "XDp_BEh9snWi"
      }
    },
    {
      "cell_type": "code",
      "execution_count": 1,
      "metadata": {
        "id": "hwjvcbq5kqN_"
      },
      "outputs": [],
      "source": [
        "import numpy as np\n",
        "import pandas as pd\n",
        "import matplotlib.pyplot as plt\n",
        "import seaborn as sns"
      ]
    },
    {
      "cell_type": "code",
      "source": [
        "pd.read_csv(r\"/content/911.csv\")"
      ],
      "metadata": {
        "id": "ai9-cmQ2kyDX",
        "colab": {
          "base_uri": "https://localhost:8080/",
          "height": 693
        },
        "outputId": "8579ef35-13e5-4917-ee6d-d5b19d291a0f"
      },
      "execution_count": 2,
      "outputs": [
        {
          "output_type": "execute_result",
          "data": {
            "text/plain": [
              "              lat        lng  \\\n",
              "0       40.297876 -75.581294   \n",
              "1       40.258061 -75.264680   \n",
              "2       40.121182 -75.351975   \n",
              "3       40.116153 -75.343513   \n",
              "4       40.251492 -75.603350   \n",
              "...           ...        ...   \n",
              "300205  40.140505 -75.310874   \n",
              "300206  40.118960 -75.351356   \n",
              "300207  40.119318 -75.352269   \n",
              "300208  40.107400 -75.113206   \n",
              "300209  40.034867 -75.327606   \n",
              "\n",
              "                                                     desc      zip  \\\n",
              "0       REINDEER CT & DEAD END;  NEW HANOVER; Station ...  19525.0   \n",
              "1       BRIAR PATH & WHITEMARSH LN;  HATFIELD TOWNSHIP...  19446.0   \n",
              "2       HAWS AVE; NORRISTOWN; 2015-12-10 @ 14:39:21-St...  19401.0   \n",
              "3       AIRY ST & SWEDE ST;  NORRISTOWN; Station 308A;...  19401.0   \n",
              "4       CHERRYWOOD CT & DEAD END;  LOWER POTTSGROVE; S...      NaN   \n",
              "...                                                   ...      ...   \n",
              "300205  GERMANTOWN PIKE & HANNAH AVE;  EAST NORRITON; ...  19401.0   \n",
              "300206  GEORGE ST & W AIRY ST;  NORRISTOWN; Station 30...  19401.0   \n",
              "300207  KOHN ST & W AIRY ST;  NORRISTOWN; Station 308A...  19401.0   \n",
              "300208  THE FAIRWAY  & RYDAL RD;  ABINGTON; Station 38...  19046.0   \n",
              "300209  MONTGOMERY AVE & THORNBROOK AVE;  LOWER MERION...      NaN   \n",
              "\n",
              "                             title            timeStamp                twp  \\\n",
              "0           EMS: BACK PAINS/INJURY  2015-12-10 17:10:52        NEW HANOVER   \n",
              "1          EMS: DIABETIC EMERGENCY  2015-12-10 17:29:21  HATFIELD TOWNSHIP   \n",
              "2              Fire: GAS-ODOR/LEAK  2015-12-10 14:39:21         NORRISTOWN   \n",
              "3           EMS: CARDIAC EMERGENCY  2015-12-10 16:47:36         NORRISTOWN   \n",
              "4                   EMS: DIZZINESS  2015-12-10 16:56:52   LOWER POTTSGROVE   \n",
              "...                            ...                  ...                ...   \n",
              "300205  EMS: ALTERED MENTAL STATUS  2018-01-22 11:15:15      EAST NORRITON   \n",
              "300206  EMS: RESPIRATORY EMERGENCY  2018-01-22 11:14:16         NORRISTOWN   \n",
              "300207  EMS: RESPIRATORY EMERGENCY  2018-01-22 11:13:25         NORRISTOWN   \n",
              "300208    EMS: UNCONSCIOUS SUBJECT  2018-01-22 11:20:48           ABINGTON   \n",
              "300209                         NaN                  NaN                NaN   \n",
              "\n",
              "                                addr    e  \n",
              "0             REINDEER CT & DEAD END  1.0  \n",
              "1         BRIAR PATH & WHITEMARSH LN  1.0  \n",
              "2                           HAWS AVE  1.0  \n",
              "3                 AIRY ST & SWEDE ST  1.0  \n",
              "4           CHERRYWOOD CT & DEAD END  1.0  \n",
              "...                              ...  ...  \n",
              "300205  GERMANTOWN PIKE & HANNAH AVE  1.0  \n",
              "300206         GEORGE ST & W AIRY ST  1.0  \n",
              "300207           KOHN ST & W AIRY ST  1.0  \n",
              "300208       THE FAIRWAY  & RYDAL RD  1.0  \n",
              "300209                           NaN  NaN  \n",
              "\n",
              "[300210 rows x 9 columns]"
            ],
            "text/html": [
              "\n",
              "  <div id=\"df-4e82c6d7-bcd2-4046-82ed-165a9a0f498b\">\n",
              "    <div class=\"colab-df-container\">\n",
              "      <div>\n",
              "<style scoped>\n",
              "    .dataframe tbody tr th:only-of-type {\n",
              "        vertical-align: middle;\n",
              "    }\n",
              "\n",
              "    .dataframe tbody tr th {\n",
              "        vertical-align: top;\n",
              "    }\n",
              "\n",
              "    .dataframe thead th {\n",
              "        text-align: right;\n",
              "    }\n",
              "</style>\n",
              "<table border=\"1\" class=\"dataframe\">\n",
              "  <thead>\n",
              "    <tr style=\"text-align: right;\">\n",
              "      <th></th>\n",
              "      <th>lat</th>\n",
              "      <th>lng</th>\n",
              "      <th>desc</th>\n",
              "      <th>zip</th>\n",
              "      <th>title</th>\n",
              "      <th>timeStamp</th>\n",
              "      <th>twp</th>\n",
              "      <th>addr</th>\n",
              "      <th>e</th>\n",
              "    </tr>\n",
              "  </thead>\n",
              "  <tbody>\n",
              "    <tr>\n",
              "      <th>0</th>\n",
              "      <td>40.297876</td>\n",
              "      <td>-75.581294</td>\n",
              "      <td>REINDEER CT &amp; DEAD END;  NEW HANOVER; Station ...</td>\n",
              "      <td>19525.0</td>\n",
              "      <td>EMS: BACK PAINS/INJURY</td>\n",
              "      <td>2015-12-10 17:10:52</td>\n",
              "      <td>NEW HANOVER</td>\n",
              "      <td>REINDEER CT &amp; DEAD END</td>\n",
              "      <td>1.0</td>\n",
              "    </tr>\n",
              "    <tr>\n",
              "      <th>1</th>\n",
              "      <td>40.258061</td>\n",
              "      <td>-75.264680</td>\n",
              "      <td>BRIAR PATH &amp; WHITEMARSH LN;  HATFIELD TOWNSHIP...</td>\n",
              "      <td>19446.0</td>\n",
              "      <td>EMS: DIABETIC EMERGENCY</td>\n",
              "      <td>2015-12-10 17:29:21</td>\n",
              "      <td>HATFIELD TOWNSHIP</td>\n",
              "      <td>BRIAR PATH &amp; WHITEMARSH LN</td>\n",
              "      <td>1.0</td>\n",
              "    </tr>\n",
              "    <tr>\n",
              "      <th>2</th>\n",
              "      <td>40.121182</td>\n",
              "      <td>-75.351975</td>\n",
              "      <td>HAWS AVE; NORRISTOWN; 2015-12-10 @ 14:39:21-St...</td>\n",
              "      <td>19401.0</td>\n",
              "      <td>Fire: GAS-ODOR/LEAK</td>\n",
              "      <td>2015-12-10 14:39:21</td>\n",
              "      <td>NORRISTOWN</td>\n",
              "      <td>HAWS AVE</td>\n",
              "      <td>1.0</td>\n",
              "    </tr>\n",
              "    <tr>\n",
              "      <th>3</th>\n",
              "      <td>40.116153</td>\n",
              "      <td>-75.343513</td>\n",
              "      <td>AIRY ST &amp; SWEDE ST;  NORRISTOWN; Station 308A;...</td>\n",
              "      <td>19401.0</td>\n",
              "      <td>EMS: CARDIAC EMERGENCY</td>\n",
              "      <td>2015-12-10 16:47:36</td>\n",
              "      <td>NORRISTOWN</td>\n",
              "      <td>AIRY ST &amp; SWEDE ST</td>\n",
              "      <td>1.0</td>\n",
              "    </tr>\n",
              "    <tr>\n",
              "      <th>4</th>\n",
              "      <td>40.251492</td>\n",
              "      <td>-75.603350</td>\n",
              "      <td>CHERRYWOOD CT &amp; DEAD END;  LOWER POTTSGROVE; S...</td>\n",
              "      <td>NaN</td>\n",
              "      <td>EMS: DIZZINESS</td>\n",
              "      <td>2015-12-10 16:56:52</td>\n",
              "      <td>LOWER POTTSGROVE</td>\n",
              "      <td>CHERRYWOOD CT &amp; DEAD END</td>\n",
              "      <td>1.0</td>\n",
              "    </tr>\n",
              "    <tr>\n",
              "      <th>...</th>\n",
              "      <td>...</td>\n",
              "      <td>...</td>\n",
              "      <td>...</td>\n",
              "      <td>...</td>\n",
              "      <td>...</td>\n",
              "      <td>...</td>\n",
              "      <td>...</td>\n",
              "      <td>...</td>\n",
              "      <td>...</td>\n",
              "    </tr>\n",
              "    <tr>\n",
              "      <th>300205</th>\n",
              "      <td>40.140505</td>\n",
              "      <td>-75.310874</td>\n",
              "      <td>GERMANTOWN PIKE &amp; HANNAH AVE;  EAST NORRITON; ...</td>\n",
              "      <td>19401.0</td>\n",
              "      <td>EMS: ALTERED MENTAL STATUS</td>\n",
              "      <td>2018-01-22 11:15:15</td>\n",
              "      <td>EAST NORRITON</td>\n",
              "      <td>GERMANTOWN PIKE &amp; HANNAH AVE</td>\n",
              "      <td>1.0</td>\n",
              "    </tr>\n",
              "    <tr>\n",
              "      <th>300206</th>\n",
              "      <td>40.118960</td>\n",
              "      <td>-75.351356</td>\n",
              "      <td>GEORGE ST &amp; W AIRY ST;  NORRISTOWN; Station 30...</td>\n",
              "      <td>19401.0</td>\n",
              "      <td>EMS: RESPIRATORY EMERGENCY</td>\n",
              "      <td>2018-01-22 11:14:16</td>\n",
              "      <td>NORRISTOWN</td>\n",
              "      <td>GEORGE ST &amp; W AIRY ST</td>\n",
              "      <td>1.0</td>\n",
              "    </tr>\n",
              "    <tr>\n",
              "      <th>300207</th>\n",
              "      <td>40.119318</td>\n",
              "      <td>-75.352269</td>\n",
              "      <td>KOHN ST &amp; W AIRY ST;  NORRISTOWN; Station 308A...</td>\n",
              "      <td>19401.0</td>\n",
              "      <td>EMS: RESPIRATORY EMERGENCY</td>\n",
              "      <td>2018-01-22 11:13:25</td>\n",
              "      <td>NORRISTOWN</td>\n",
              "      <td>KOHN ST &amp; W AIRY ST</td>\n",
              "      <td>1.0</td>\n",
              "    </tr>\n",
              "    <tr>\n",
              "      <th>300208</th>\n",
              "      <td>40.107400</td>\n",
              "      <td>-75.113206</td>\n",
              "      <td>THE FAIRWAY  &amp; RYDAL RD;  ABINGTON; Station 38...</td>\n",
              "      <td>19046.0</td>\n",
              "      <td>EMS: UNCONSCIOUS SUBJECT</td>\n",
              "      <td>2018-01-22 11:20:48</td>\n",
              "      <td>ABINGTON</td>\n",
              "      <td>THE FAIRWAY  &amp; RYDAL RD</td>\n",
              "      <td>1.0</td>\n",
              "    </tr>\n",
              "    <tr>\n",
              "      <th>300209</th>\n",
              "      <td>40.034867</td>\n",
              "      <td>-75.327606</td>\n",
              "      <td>MONTGOMERY AVE &amp; THORNBROOK AVE;  LOWER MERION...</td>\n",
              "      <td>NaN</td>\n",
              "      <td>NaN</td>\n",
              "      <td>NaN</td>\n",
              "      <td>NaN</td>\n",
              "      <td>NaN</td>\n",
              "      <td>NaN</td>\n",
              "    </tr>\n",
              "  </tbody>\n",
              "</table>\n",
              "<p>300210 rows × 9 columns</p>\n",
              "</div>\n",
              "      <button class=\"colab-df-convert\" onclick=\"convertToInteractive('df-4e82c6d7-bcd2-4046-82ed-165a9a0f498b')\"\n",
              "              title=\"Convert this dataframe to an interactive table.\"\n",
              "              style=\"display:none;\">\n",
              "        \n",
              "  <svg xmlns=\"http://www.w3.org/2000/svg\" height=\"24px\"viewBox=\"0 0 24 24\"\n",
              "       width=\"24px\">\n",
              "    <path d=\"M0 0h24v24H0V0z\" fill=\"none\"/>\n",
              "    <path d=\"M18.56 5.44l.94 2.06.94-2.06 2.06-.94-2.06-.94-.94-2.06-.94 2.06-2.06.94zm-11 1L8.5 8.5l.94-2.06 2.06-.94-2.06-.94L8.5 2.5l-.94 2.06-2.06.94zm10 10l.94 2.06.94-2.06 2.06-.94-2.06-.94-.94-2.06-.94 2.06-2.06.94z\"/><path d=\"M17.41 7.96l-1.37-1.37c-.4-.4-.92-.59-1.43-.59-.52 0-1.04.2-1.43.59L10.3 9.45l-7.72 7.72c-.78.78-.78 2.05 0 2.83L4 21.41c.39.39.9.59 1.41.59.51 0 1.02-.2 1.41-.59l7.78-7.78 2.81-2.81c.8-.78.8-2.07 0-2.86zM5.41 20L4 18.59l7.72-7.72 1.47 1.35L5.41 20z\"/>\n",
              "  </svg>\n",
              "      </button>\n",
              "      \n",
              "  <style>\n",
              "    .colab-df-container {\n",
              "      display:flex;\n",
              "      flex-wrap:wrap;\n",
              "      gap: 12px;\n",
              "    }\n",
              "\n",
              "    .colab-df-convert {\n",
              "      background-color: #E8F0FE;\n",
              "      border: none;\n",
              "      border-radius: 50%;\n",
              "      cursor: pointer;\n",
              "      display: none;\n",
              "      fill: #1967D2;\n",
              "      height: 32px;\n",
              "      padding: 0 0 0 0;\n",
              "      width: 32px;\n",
              "    }\n",
              "\n",
              "    .colab-df-convert:hover {\n",
              "      background-color: #E2EBFA;\n",
              "      box-shadow: 0px 1px 2px rgba(60, 64, 67, 0.3), 0px 1px 3px 1px rgba(60, 64, 67, 0.15);\n",
              "      fill: #174EA6;\n",
              "    }\n",
              "\n",
              "    [theme=dark] .colab-df-convert {\n",
              "      background-color: #3B4455;\n",
              "      fill: #D2E3FC;\n",
              "    }\n",
              "\n",
              "    [theme=dark] .colab-df-convert:hover {\n",
              "      background-color: #434B5C;\n",
              "      box-shadow: 0px 1px 3px 1px rgba(0, 0, 0, 0.15);\n",
              "      filter: drop-shadow(0px 1px 2px rgba(0, 0, 0, 0.3));\n",
              "      fill: #FFFFFF;\n",
              "    }\n",
              "  </style>\n",
              "\n",
              "      <script>\n",
              "        const buttonEl =\n",
              "          document.querySelector('#df-4e82c6d7-bcd2-4046-82ed-165a9a0f498b button.colab-df-convert');\n",
              "        buttonEl.style.display =\n",
              "          google.colab.kernel.accessAllowed ? 'block' : 'none';\n",
              "\n",
              "        async function convertToInteractive(key) {\n",
              "          const element = document.querySelector('#df-4e82c6d7-bcd2-4046-82ed-165a9a0f498b');\n",
              "          const dataTable =\n",
              "            await google.colab.kernel.invokeFunction('convertToInteractive',\n",
              "                                                     [key], {});\n",
              "          if (!dataTable) return;\n",
              "\n",
              "          const docLinkHtml = 'Like what you see? Visit the ' +\n",
              "            '<a target=\"_blank\" href=https://colab.research.google.com/notebooks/data_table.ipynb>data table notebook</a>'\n",
              "            + ' to learn more about interactive tables.';\n",
              "          element.innerHTML = '';\n",
              "          dataTable['output_type'] = 'display_data';\n",
              "          await google.colab.output.renderOutput(dataTable, element);\n",
              "          const docLink = document.createElement('div');\n",
              "          docLink.innerHTML = docLinkHtml;\n",
              "          element.appendChild(docLink);\n",
              "        }\n",
              "      </script>\n",
              "    </div>\n",
              "  </div>\n",
              "  "
            ]
          },
          "metadata": {},
          "execution_count": 2
        }
      ]
    },
    {
      "cell_type": "code",
      "source": [
        "df = pd.read_csv(r\"/content/911.csv\")"
      ],
      "metadata": {
        "id": "2hNVuksIrgH6"
      },
      "execution_count": 4,
      "outputs": []
    },
    {
      "cell_type": "markdown",
      "source": [
        "year = [1972, 1982, 1992, 2002, 2012]\n",
        "\n",
        "e_india = [100.6, 158.61, 305.54, 394.96, 724.79]\n",
        "\n",
        "e_bangladesh = [10.5, 25.21, 58.65, 119.27, 274.87]"
      ],
      "metadata": {
        "id": "C8N2FOh3q_5n"
      }
    },
    {
      "cell_type": "code",
      "source": [
        "print(df)"
      ],
      "metadata": {
        "colab": {
          "base_uri": "https://localhost:8080/"
        },
        "id": "uDYQrjGssMmm",
        "outputId": "f38898e1-422c-469a-beee-ae6ba4c68a99"
      },
      "execution_count": 5,
      "outputs": [
        {
          "output_type": "stream",
          "name": "stdout",
          "text": [
            "              lat        lng  \\\n",
            "0       40.297876 -75.581294   \n",
            "1       40.258061 -75.264680   \n",
            "2       40.121182 -75.351975   \n",
            "3       40.116153 -75.343513   \n",
            "4       40.251492 -75.603350   \n",
            "...           ...        ...   \n",
            "300205  40.140505 -75.310874   \n",
            "300206  40.118960 -75.351356   \n",
            "300207  40.119318 -75.352269   \n",
            "300208  40.107400 -75.113206   \n",
            "300209  40.034867 -75.327606   \n",
            "\n",
            "                                                     desc      zip  \\\n",
            "0       REINDEER CT & DEAD END;  NEW HANOVER; Station ...  19525.0   \n",
            "1       BRIAR PATH & WHITEMARSH LN;  HATFIELD TOWNSHIP...  19446.0   \n",
            "2       HAWS AVE; NORRISTOWN; 2015-12-10 @ 14:39:21-St...  19401.0   \n",
            "3       AIRY ST & SWEDE ST;  NORRISTOWN; Station 308A;...  19401.0   \n",
            "4       CHERRYWOOD CT & DEAD END;  LOWER POTTSGROVE; S...      NaN   \n",
            "...                                                   ...      ...   \n",
            "300205  GERMANTOWN PIKE & HANNAH AVE;  EAST NORRITON; ...  19401.0   \n",
            "300206  GEORGE ST & W AIRY ST;  NORRISTOWN; Station 30...  19401.0   \n",
            "300207  KOHN ST & W AIRY ST;  NORRISTOWN; Station 308A...  19401.0   \n",
            "300208  THE FAIRWAY  & RYDAL RD;  ABINGTON; Station 38...  19046.0   \n",
            "300209  MONTGOMERY AVE & THORNBROOK AVE;  LOWER MERION...      NaN   \n",
            "\n",
            "                             title            timeStamp                twp  \\\n",
            "0           EMS: BACK PAINS/INJURY  2015-12-10 17:10:52        NEW HANOVER   \n",
            "1          EMS: DIABETIC EMERGENCY  2015-12-10 17:29:21  HATFIELD TOWNSHIP   \n",
            "2              Fire: GAS-ODOR/LEAK  2015-12-10 14:39:21         NORRISTOWN   \n",
            "3           EMS: CARDIAC EMERGENCY  2015-12-10 16:47:36         NORRISTOWN   \n",
            "4                   EMS: DIZZINESS  2015-12-10 16:56:52   LOWER POTTSGROVE   \n",
            "...                            ...                  ...                ...   \n",
            "300205  EMS: ALTERED MENTAL STATUS  2018-01-22 11:15:15      EAST NORRITON   \n",
            "300206  EMS: RESPIRATORY EMERGENCY  2018-01-22 11:14:16         NORRISTOWN   \n",
            "300207  EMS: RESPIRATORY EMERGENCY  2018-01-22 11:13:25         NORRISTOWN   \n",
            "300208    EMS: UNCONSCIOUS SUBJECT  2018-01-22 11:20:48           ABINGTON   \n",
            "300209                         NaN                  NaN                NaN   \n",
            "\n",
            "                                addr    e  \n",
            "0             REINDEER CT & DEAD END  1.0  \n",
            "1         BRIAR PATH & WHITEMARSH LN  1.0  \n",
            "2                           HAWS AVE  1.0  \n",
            "3                 AIRY ST & SWEDE ST  1.0  \n",
            "4           CHERRYWOOD CT & DEAD END  1.0  \n",
            "...                              ...  ...  \n",
            "300205  GERMANTOWN PIKE & HANNAH AVE  1.0  \n",
            "300206         GEORGE ST & W AIRY ST  1.0  \n",
            "300207           KOHN ST & W AIRY ST  1.0  \n",
            "300208       THE FAIRWAY  & RYDAL RD  1.0  \n",
            "300209                           NaN  NaN  \n",
            "\n",
            "[300210 rows x 9 columns]\n"
          ]
        }
      ]
    },
    {
      "cell_type": "markdown",
      "source": [
        " The top 5 zipcodes for 911 calls\n"
      ],
      "metadata": {
        "id": "wsz9942brPy-"
      }
    },
    {
      "cell_type": "code",
      "source": [
        "df['zip'].value_counts().head(5)"
      ],
      "metadata": {
        "colab": {
          "base_uri": "https://localhost:8080/"
        },
        "id": "ehFAv_0tsSeO",
        "outputId": "2bc4ca0f-dc17-41e8-efa6-a24f9e4636ff"
      },
      "execution_count": 6,
      "outputs": [
        {
          "output_type": "execute_result",
          "data": {
            "text/plain": [
              "19401.0    20544\n",
              "19464.0    20005\n",
              "19403.0    15100\n",
              "19446.0    14463\n",
              "19406.0    10004\n",
              "Name: zip, dtype: int64"
            ]
          },
          "metadata": {},
          "execution_count": 6
        }
      ]
    },
    {
      "cell_type": "markdown",
      "source": [
        "In the titles column there are \"Reasons/Departments\" specified before the title code."
      ],
      "metadata": {
        "id": "BJip_OvGr8Tt"
      }
    },
    {
      "cell_type": "code",
      "source": [
        "df['Reason'] = df['title'].apply(lambda s:s.split(':')[0])\n",
        "df['Reason'].head(5)"
      ],
      "metadata": {
        "id": "0lKWkrJVtexc"
      },
      "execution_count": null,
      "outputs": []
    },
    {
      "cell_type": "markdown",
      "source": [
        "the most common Reason for a 911 call based off of this new column"
      ],
      "metadata": {
        "id": "9bf3-dCQQkvI"
      }
    },
    {
      "cell_type": "code",
      "source": [
        "df['Reason'].value_counts()"
      ],
      "metadata": {
        "id": "r2W_FPWwQmPK"
      },
      "execution_count": null,
      "outputs": []
    },
    {
      "cell_type": "markdown",
      "source": [
        "We use seaborn to create a countplot of 911 calls by Reason"
      ],
      "metadata": {
        "id": "hf2uaSSbQqo_"
      }
    },
    {
      "cell_type": "code",
      "source": [
        "palette='Blues'sns.countplot(x = 'Reason', data = df, palette='Blues')"
      ],
      "metadata": {
        "id": "ll17RuGhQ1ma"
      },
      "execution_count": null,
      "outputs": []
    },
    {
      "cell_type": "markdown",
      "source": [
        " the data type of the objects in the timeStamp column"
      ],
      "metadata": {
        "id": "EcR9kcx5Q7XF"
      }
    },
    {
      "cell_type": "code",
      "source": [
        "type(df['timeStamp'].iloc[0])"
      ],
      "metadata": {
        "colab": {
          "base_uri": "https://localhost:8080/"
        },
        "id": "GPGgxTGvRAIw",
        "outputId": "38892d77-5930-4423-820b-03f8d80d9c6d"
      },
      "execution_count": 10,
      "outputs": [
        {
          "output_type": "execute_result",
          "data": {
            "text/plain": [
              "str"
            ]
          },
          "metadata": {},
          "execution_count": 10
        }
      ]
    },
    {
      "cell_type": "markdown",
      "source": [
        "You should have seen that these timestamps are still strings. Use pd.to_datetime to convert the column from strings to DateTime objects."
      ],
      "metadata": {
        "id": "qVXKPrhmRFeU"
      }
    },
    {
      "cell_type": "code",
      "source": [
        "df['timeStamp'] = pd.to_datetime(df['timeStamp'])\n",
        "type(df['timeStamp'].iloc[0])"
      ],
      "metadata": {
        "colab": {
          "base_uri": "https://localhost:8080/"
        },
        "id": "O6PEdnHJRPll",
        "outputId": "1109fd4c-9566-4ab9-8562-a3c3270a5e1c"
      },
      "execution_count": 11,
      "outputs": [
        {
          "output_type": "execute_result",
          "data": {
            "text/plain": [
              "pandas._libs.tslibs.timestamps.Timestamp"
            ]
          },
          "metadata": {},
          "execution_count": 11
        }
      ]
    },
    {
      "cell_type": "markdown",
      "source": [
        " You can now grab specific attributes from a Datetime object by calling them"
      ],
      "metadata": {
        "id": "fwULAWajRUNz"
      }
    },
    {
      "cell_type": "code",
      "source": [
        "time = df['timeStamp'].iloc[0]\n",
        "time.hour"
      ],
      "metadata": {
        "colab": {
          "base_uri": "https://localhost:8080/"
        },
        "id": "jPA2gQtSRaWH",
        "outputId": "45b1e4b9-0693-47b3-876d-b15e12658a28"
      },
      "execution_count": 12,
      "outputs": [
        {
          "output_type": "execute_result",
          "data": {
            "text/plain": [
              "17"
            ]
          },
          "metadata": {},
          "execution_count": 12
        }
      ]
    },
    {
      "cell_type": "markdown",
      "source": [
        "You can use Jupyter's tab method to explore the various attributes you can call. Now that the timestamp column are actually DateTime objects, use .apply() to create 3 new columns called Hour, Month, and Day of Week. You will create these columns based off of the timeStamp column, reference the solutions if you get stuck on this step."
      ],
      "metadata": {
        "id": "cMZDKPoJRdlG"
      }
    },
    {
      "cell_type": "code",
      "source": [
        "df['Hour'] = df['timeStamp'].apply(lambda time:time.hour)\n",
        "df['Month'] = df['timeStamp'].apply(lambda time:time.month)\n",
        "df['Day of Week'] = df['timeStamp'].apply(lambda time:time.dayofweek)\n",
        "df.head()"
      ],
      "metadata": {
        "colab": {
          "base_uri": "https://localhost:8080/",
          "height": 458
        },
        "id": "RRxP6XvaRixn",
        "outputId": "50eba49b-29e9-4726-8864-3686c272d439"
      },
      "execution_count": 13,
      "outputs": [
        {
          "output_type": "execute_result",
          "data": {
            "text/plain": [
              "         lat        lng                                               desc  \\\n",
              "0  40.297876 -75.581294  REINDEER CT & DEAD END;  NEW HANOVER; Station ...   \n",
              "1  40.258061 -75.264680  BRIAR PATH & WHITEMARSH LN;  HATFIELD TOWNSHIP...   \n",
              "2  40.121182 -75.351975  HAWS AVE; NORRISTOWN; 2015-12-10 @ 14:39:21-St...   \n",
              "3  40.116153 -75.343513  AIRY ST & SWEDE ST;  NORRISTOWN; Station 308A;...   \n",
              "4  40.251492 -75.603350  CHERRYWOOD CT & DEAD END;  LOWER POTTSGROVE; S...   \n",
              "\n",
              "       zip                    title           timeStamp                twp  \\\n",
              "0  19525.0   EMS: BACK PAINS/INJURY 2015-12-10 17:10:52        NEW HANOVER   \n",
              "1  19446.0  EMS: DIABETIC EMERGENCY 2015-12-10 17:29:21  HATFIELD TOWNSHIP   \n",
              "2  19401.0      Fire: GAS-ODOR/LEAK 2015-12-10 14:39:21         NORRISTOWN   \n",
              "3  19401.0   EMS: CARDIAC EMERGENCY 2015-12-10 16:47:36         NORRISTOWN   \n",
              "4      NaN           EMS: DIZZINESS 2015-12-10 16:56:52   LOWER POTTSGROVE   \n",
              "\n",
              "                         addr    e  Hour  Month  Day of Week  \n",
              "0      REINDEER CT & DEAD END  1.0  17.0   12.0          3.0  \n",
              "1  BRIAR PATH & WHITEMARSH LN  1.0  17.0   12.0          3.0  \n",
              "2                    HAWS AVE  1.0  14.0   12.0          3.0  \n",
              "3          AIRY ST & SWEDE ST  1.0  16.0   12.0          3.0  \n",
              "4    CHERRYWOOD CT & DEAD END  1.0  16.0   12.0          3.0  "
            ],
            "text/html": [
              "\n",
              "  <div id=\"df-bbe726f6-8506-4df6-91d4-7719ee0c951c\">\n",
              "    <div class=\"colab-df-container\">\n",
              "      <div>\n",
              "<style scoped>\n",
              "    .dataframe tbody tr th:only-of-type {\n",
              "        vertical-align: middle;\n",
              "    }\n",
              "\n",
              "    .dataframe tbody tr th {\n",
              "        vertical-align: top;\n",
              "    }\n",
              "\n",
              "    .dataframe thead th {\n",
              "        text-align: right;\n",
              "    }\n",
              "</style>\n",
              "<table border=\"1\" class=\"dataframe\">\n",
              "  <thead>\n",
              "    <tr style=\"text-align: right;\">\n",
              "      <th></th>\n",
              "      <th>lat</th>\n",
              "      <th>lng</th>\n",
              "      <th>desc</th>\n",
              "      <th>zip</th>\n",
              "      <th>title</th>\n",
              "      <th>timeStamp</th>\n",
              "      <th>twp</th>\n",
              "      <th>addr</th>\n",
              "      <th>e</th>\n",
              "      <th>Hour</th>\n",
              "      <th>Month</th>\n",
              "      <th>Day of Week</th>\n",
              "    </tr>\n",
              "  </thead>\n",
              "  <tbody>\n",
              "    <tr>\n",
              "      <th>0</th>\n",
              "      <td>40.297876</td>\n",
              "      <td>-75.581294</td>\n",
              "      <td>REINDEER CT &amp; DEAD END;  NEW HANOVER; Station ...</td>\n",
              "      <td>19525.0</td>\n",
              "      <td>EMS: BACK PAINS/INJURY</td>\n",
              "      <td>2015-12-10 17:10:52</td>\n",
              "      <td>NEW HANOVER</td>\n",
              "      <td>REINDEER CT &amp; DEAD END</td>\n",
              "      <td>1.0</td>\n",
              "      <td>17.0</td>\n",
              "      <td>12.0</td>\n",
              "      <td>3.0</td>\n",
              "    </tr>\n",
              "    <tr>\n",
              "      <th>1</th>\n",
              "      <td>40.258061</td>\n",
              "      <td>-75.264680</td>\n",
              "      <td>BRIAR PATH &amp; WHITEMARSH LN;  HATFIELD TOWNSHIP...</td>\n",
              "      <td>19446.0</td>\n",
              "      <td>EMS: DIABETIC EMERGENCY</td>\n",
              "      <td>2015-12-10 17:29:21</td>\n",
              "      <td>HATFIELD TOWNSHIP</td>\n",
              "      <td>BRIAR PATH &amp; WHITEMARSH LN</td>\n",
              "      <td>1.0</td>\n",
              "      <td>17.0</td>\n",
              "      <td>12.0</td>\n",
              "      <td>3.0</td>\n",
              "    </tr>\n",
              "    <tr>\n",
              "      <th>2</th>\n",
              "      <td>40.121182</td>\n",
              "      <td>-75.351975</td>\n",
              "      <td>HAWS AVE; NORRISTOWN; 2015-12-10 @ 14:39:21-St...</td>\n",
              "      <td>19401.0</td>\n",
              "      <td>Fire: GAS-ODOR/LEAK</td>\n",
              "      <td>2015-12-10 14:39:21</td>\n",
              "      <td>NORRISTOWN</td>\n",
              "      <td>HAWS AVE</td>\n",
              "      <td>1.0</td>\n",
              "      <td>14.0</td>\n",
              "      <td>12.0</td>\n",
              "      <td>3.0</td>\n",
              "    </tr>\n",
              "    <tr>\n",
              "      <th>3</th>\n",
              "      <td>40.116153</td>\n",
              "      <td>-75.343513</td>\n",
              "      <td>AIRY ST &amp; SWEDE ST;  NORRISTOWN; Station 308A;...</td>\n",
              "      <td>19401.0</td>\n",
              "      <td>EMS: CARDIAC EMERGENCY</td>\n",
              "      <td>2015-12-10 16:47:36</td>\n",
              "      <td>NORRISTOWN</td>\n",
              "      <td>AIRY ST &amp; SWEDE ST</td>\n",
              "      <td>1.0</td>\n",
              "      <td>16.0</td>\n",
              "      <td>12.0</td>\n",
              "      <td>3.0</td>\n",
              "    </tr>\n",
              "    <tr>\n",
              "      <th>4</th>\n",
              "      <td>40.251492</td>\n",
              "      <td>-75.603350</td>\n",
              "      <td>CHERRYWOOD CT &amp; DEAD END;  LOWER POTTSGROVE; S...</td>\n",
              "      <td>NaN</td>\n",
              "      <td>EMS: DIZZINESS</td>\n",
              "      <td>2015-12-10 16:56:52</td>\n",
              "      <td>LOWER POTTSGROVE</td>\n",
              "      <td>CHERRYWOOD CT &amp; DEAD END</td>\n",
              "      <td>1.0</td>\n",
              "      <td>16.0</td>\n",
              "      <td>12.0</td>\n",
              "      <td>3.0</td>\n",
              "    </tr>\n",
              "  </tbody>\n",
              "</table>\n",
              "</div>\n",
              "      <button class=\"colab-df-convert\" onclick=\"convertToInteractive('df-bbe726f6-8506-4df6-91d4-7719ee0c951c')\"\n",
              "              title=\"Convert this dataframe to an interactive table.\"\n",
              "              style=\"display:none;\">\n",
              "        \n",
              "  <svg xmlns=\"http://www.w3.org/2000/svg\" height=\"24px\"viewBox=\"0 0 24 24\"\n",
              "       width=\"24px\">\n",
              "    <path d=\"M0 0h24v24H0V0z\" fill=\"none\"/>\n",
              "    <path d=\"M18.56 5.44l.94 2.06.94-2.06 2.06-.94-2.06-.94-.94-2.06-.94 2.06-2.06.94zm-11 1L8.5 8.5l.94-2.06 2.06-.94-2.06-.94L8.5 2.5l-.94 2.06-2.06.94zm10 10l.94 2.06.94-2.06 2.06-.94-2.06-.94-.94-2.06-.94 2.06-2.06.94z\"/><path d=\"M17.41 7.96l-1.37-1.37c-.4-.4-.92-.59-1.43-.59-.52 0-1.04.2-1.43.59L10.3 9.45l-7.72 7.72c-.78.78-.78 2.05 0 2.83L4 21.41c.39.39.9.59 1.41.59.51 0 1.02-.2 1.41-.59l7.78-7.78 2.81-2.81c.8-.78.8-2.07 0-2.86zM5.41 20L4 18.59l7.72-7.72 1.47 1.35L5.41 20z\"/>\n",
              "  </svg>\n",
              "      </button>\n",
              "      \n",
              "  <style>\n",
              "    .colab-df-container {\n",
              "      display:flex;\n",
              "      flex-wrap:wrap;\n",
              "      gap: 12px;\n",
              "    }\n",
              "\n",
              "    .colab-df-convert {\n",
              "      background-color: #E8F0FE;\n",
              "      border: none;\n",
              "      border-radius: 50%;\n",
              "      cursor: pointer;\n",
              "      display: none;\n",
              "      fill: #1967D2;\n",
              "      height: 32px;\n",
              "      padding: 0 0 0 0;\n",
              "      width: 32px;\n",
              "    }\n",
              "\n",
              "    .colab-df-convert:hover {\n",
              "      background-color: #E2EBFA;\n",
              "      box-shadow: 0px 1px 2px rgba(60, 64, 67, 0.3), 0px 1px 3px 1px rgba(60, 64, 67, 0.15);\n",
              "      fill: #174EA6;\n",
              "    }\n",
              "\n",
              "    [theme=dark] .colab-df-convert {\n",
              "      background-color: #3B4455;\n",
              "      fill: #D2E3FC;\n",
              "    }\n",
              "\n",
              "    [theme=dark] .colab-df-convert:hover {\n",
              "      background-color: #434B5C;\n",
              "      box-shadow: 0px 1px 3px 1px rgba(0, 0, 0, 0.15);\n",
              "      filter: drop-shadow(0px 1px 2px rgba(0, 0, 0, 0.3));\n",
              "      fill: #FFFFFF;\n",
              "    }\n",
              "  </style>\n",
              "\n",
              "      <script>\n",
              "        const buttonEl =\n",
              "          document.querySelector('#df-bbe726f6-8506-4df6-91d4-7719ee0c951c button.colab-df-convert');\n",
              "        buttonEl.style.display =\n",
              "          google.colab.kernel.accessAllowed ? 'block' : 'none';\n",
              "\n",
              "        async function convertToInteractive(key) {\n",
              "          const element = document.querySelector('#df-bbe726f6-8506-4df6-91d4-7719ee0c951c');\n",
              "          const dataTable =\n",
              "            await google.colab.kernel.invokeFunction('convertToInteractive',\n",
              "                                                     [key], {});\n",
              "          if (!dataTable) return;\n",
              "\n",
              "          const docLinkHtml = 'Like what you see? Visit the ' +\n",
              "            '<a target=\"_blank\" href=https://colab.research.google.com/notebooks/data_table.ipynb>data table notebook</a>'\n",
              "            + ' to learn more about interactive tables.';\n",
              "          element.innerHTML = '';\n",
              "          dataTable['output_type'] = 'display_data';\n",
              "          await google.colab.output.renderOutput(dataTable, element);\n",
              "          const docLink = document.createElement('div');\n",
              "          docLink.innerHTML = docLinkHtml;\n",
              "          element.appendChild(docLink);\n",
              "        }\n",
              "      </script>\n",
              "    </div>\n",
              "  </div>\n",
              "  "
            ]
          },
          "metadata": {},
          "execution_count": 13
        }
      ]
    },
    {
      "cell_type": "markdown",
      "source": [
        "Notice how the Day of Week is an integer 0-6. Use the .map() with this dictionary to map the actual string names to the day of the week"
      ],
      "metadata": {
        "id": "HBftqigjRsYk"
      }
    },
    {
      "cell_type": "code",
      "source": [
        "dmap = {0:'Mon',1:'Tue',2:'Wed',3:'Thu',4:'Fri',5:'Sat',6:'Sun'}"
      ],
      "metadata": {
        "id": "thG-3xe2R1nP"
      },
      "execution_count": 14,
      "outputs": []
    },
    {
      "cell_type": "code",
      "source": [
        "df['Day of Week'] = df['Day of Week'].apply(lambda x: dmap[x])\n",
        "\n",
        "df.head()"
      ],
      "metadata": {
        "id": "p1N3b3UZSCwu"
      },
      "execution_count": null,
      "outputs": []
    },
    {
      "cell_type": "markdown",
      "source": [
        "Now use seaborn to create a countplot of the Day of Week column with the hue based off of the Reason column"
      ],
      "metadata": {
        "id": "ZYTabm4DSDxw"
      }
    },
    {
      "cell_type": "code",
      "source": [
        "sns.countplot(x='Day of Week',data=df, palette='Blues', hue='Reason')\n",
        "plt.legend(bbox_to_anchor=(1,1))"
      ],
      "metadata": {
        "id": "IM5KjJGsSH8n"
      },
      "execution_count": null,
      "outputs": []
    },
    {
      "cell_type": "markdown",
      "source": [
        "You should have noticed it was missing some months. Let's see if we can maybe fill in this information by plotting the information in another way, possibly a simple line plot that fills in the missing months, in order to do this, we'll need to do some work with pandas..."
      ],
      "metadata": {
        "id": "quK4_NBISP68"
      }
    },
    {
      "cell_type": "code",
      "source": [
        "byMonth = df.groupby('Month').count()\n",
        "byMonth.head()"
      ],
      "metadata": {
        "colab": {
          "base_uri": "https://localhost:8080/",
          "height": 237
        },
        "id": "pdiQb-b0SXEO",
        "outputId": "db7fb8e1-375f-4868-a180-c9356eaac34e"
      },
      "execution_count": 17,
      "outputs": [
        {
          "output_type": "execute_result",
          "data": {
            "text/plain": [
              "         lat    lng   desc    zip  title  timeStamp    twp   addr      e  \\\n",
              "Month                                                                      \n",
              "1.0    34291  34291  34291  30358  34291      34291  34279  34291  34291   \n",
              "2.0    21663  21663  21663  19161  21663      21663  21658  21663  21663   \n",
              "3.0    22743  22743  22743  20160  22743      22743  22732  22743  22743   \n",
              "4.0    22343  22343  22343  19671  22343      22343  22336  22343  22343   \n",
              "5.0    23093  23093  23093  20254  23093      23093  23082  23093  23093   \n",
              "\n",
              "        Hour  Day of Week  \n",
              "Month                      \n",
              "1.0    34291        34291  \n",
              "2.0    21663        21663  \n",
              "3.0    22743        22743  \n",
              "4.0    22343        22343  \n",
              "5.0    23093        23093  "
            ],
            "text/html": [
              "\n",
              "  <div id=\"df-b188612c-4183-40bd-bd79-b70806995952\">\n",
              "    <div class=\"colab-df-container\">\n",
              "      <div>\n",
              "<style scoped>\n",
              "    .dataframe tbody tr th:only-of-type {\n",
              "        vertical-align: middle;\n",
              "    }\n",
              "\n",
              "    .dataframe tbody tr th {\n",
              "        vertical-align: top;\n",
              "    }\n",
              "\n",
              "    .dataframe thead th {\n",
              "        text-align: right;\n",
              "    }\n",
              "</style>\n",
              "<table border=\"1\" class=\"dataframe\">\n",
              "  <thead>\n",
              "    <tr style=\"text-align: right;\">\n",
              "      <th></th>\n",
              "      <th>lat</th>\n",
              "      <th>lng</th>\n",
              "      <th>desc</th>\n",
              "      <th>zip</th>\n",
              "      <th>title</th>\n",
              "      <th>timeStamp</th>\n",
              "      <th>twp</th>\n",
              "      <th>addr</th>\n",
              "      <th>e</th>\n",
              "      <th>Hour</th>\n",
              "      <th>Day of Week</th>\n",
              "    </tr>\n",
              "    <tr>\n",
              "      <th>Month</th>\n",
              "      <th></th>\n",
              "      <th></th>\n",
              "      <th></th>\n",
              "      <th></th>\n",
              "      <th></th>\n",
              "      <th></th>\n",
              "      <th></th>\n",
              "      <th></th>\n",
              "      <th></th>\n",
              "      <th></th>\n",
              "      <th></th>\n",
              "    </tr>\n",
              "  </thead>\n",
              "  <tbody>\n",
              "    <tr>\n",
              "      <th>1.0</th>\n",
              "      <td>34291</td>\n",
              "      <td>34291</td>\n",
              "      <td>34291</td>\n",
              "      <td>30358</td>\n",
              "      <td>34291</td>\n",
              "      <td>34291</td>\n",
              "      <td>34279</td>\n",
              "      <td>34291</td>\n",
              "      <td>34291</td>\n",
              "      <td>34291</td>\n",
              "      <td>34291</td>\n",
              "    </tr>\n",
              "    <tr>\n",
              "      <th>2.0</th>\n",
              "      <td>21663</td>\n",
              "      <td>21663</td>\n",
              "      <td>21663</td>\n",
              "      <td>19161</td>\n",
              "      <td>21663</td>\n",
              "      <td>21663</td>\n",
              "      <td>21658</td>\n",
              "      <td>21663</td>\n",
              "      <td>21663</td>\n",
              "      <td>21663</td>\n",
              "      <td>21663</td>\n",
              "    </tr>\n",
              "    <tr>\n",
              "      <th>3.0</th>\n",
              "      <td>22743</td>\n",
              "      <td>22743</td>\n",
              "      <td>22743</td>\n",
              "      <td>20160</td>\n",
              "      <td>22743</td>\n",
              "      <td>22743</td>\n",
              "      <td>22732</td>\n",
              "      <td>22743</td>\n",
              "      <td>22743</td>\n",
              "      <td>22743</td>\n",
              "      <td>22743</td>\n",
              "    </tr>\n",
              "    <tr>\n",
              "      <th>4.0</th>\n",
              "      <td>22343</td>\n",
              "      <td>22343</td>\n",
              "      <td>22343</td>\n",
              "      <td>19671</td>\n",
              "      <td>22343</td>\n",
              "      <td>22343</td>\n",
              "      <td>22336</td>\n",
              "      <td>22343</td>\n",
              "      <td>22343</td>\n",
              "      <td>22343</td>\n",
              "      <td>22343</td>\n",
              "    </tr>\n",
              "    <tr>\n",
              "      <th>5.0</th>\n",
              "      <td>23093</td>\n",
              "      <td>23093</td>\n",
              "      <td>23093</td>\n",
              "      <td>20254</td>\n",
              "      <td>23093</td>\n",
              "      <td>23093</td>\n",
              "      <td>23082</td>\n",
              "      <td>23093</td>\n",
              "      <td>23093</td>\n",
              "      <td>23093</td>\n",
              "      <td>23093</td>\n",
              "    </tr>\n",
              "  </tbody>\n",
              "</table>\n",
              "</div>\n",
              "      <button class=\"colab-df-convert\" onclick=\"convertToInteractive('df-b188612c-4183-40bd-bd79-b70806995952')\"\n",
              "              title=\"Convert this dataframe to an interactive table.\"\n",
              "              style=\"display:none;\">\n",
              "        \n",
              "  <svg xmlns=\"http://www.w3.org/2000/svg\" height=\"24px\"viewBox=\"0 0 24 24\"\n",
              "       width=\"24px\">\n",
              "    <path d=\"M0 0h24v24H0V0z\" fill=\"none\"/>\n",
              "    <path d=\"M18.56 5.44l.94 2.06.94-2.06 2.06-.94-2.06-.94-.94-2.06-.94 2.06-2.06.94zm-11 1L8.5 8.5l.94-2.06 2.06-.94-2.06-.94L8.5 2.5l-.94 2.06-2.06.94zm10 10l.94 2.06.94-2.06 2.06-.94-2.06-.94-.94-2.06-.94 2.06-2.06.94z\"/><path d=\"M17.41 7.96l-1.37-1.37c-.4-.4-.92-.59-1.43-.59-.52 0-1.04.2-1.43.59L10.3 9.45l-7.72 7.72c-.78.78-.78 2.05 0 2.83L4 21.41c.39.39.9.59 1.41.59.51 0 1.02-.2 1.41-.59l7.78-7.78 2.81-2.81c.8-.78.8-2.07 0-2.86zM5.41 20L4 18.59l7.72-7.72 1.47 1.35L5.41 20z\"/>\n",
              "  </svg>\n",
              "      </button>\n",
              "      \n",
              "  <style>\n",
              "    .colab-df-container {\n",
              "      display:flex;\n",
              "      flex-wrap:wrap;\n",
              "      gap: 12px;\n",
              "    }\n",
              "\n",
              "    .colab-df-convert {\n",
              "      background-color: #E8F0FE;\n",
              "      border: none;\n",
              "      border-radius: 50%;\n",
              "      cursor: pointer;\n",
              "      display: none;\n",
              "      fill: #1967D2;\n",
              "      height: 32px;\n",
              "      padding: 0 0 0 0;\n",
              "      width: 32px;\n",
              "    }\n",
              "\n",
              "    .colab-df-convert:hover {\n",
              "      background-color: #E2EBFA;\n",
              "      box-shadow: 0px 1px 2px rgba(60, 64, 67, 0.3), 0px 1px 3px 1px rgba(60, 64, 67, 0.15);\n",
              "      fill: #174EA6;\n",
              "    }\n",
              "\n",
              "    [theme=dark] .colab-df-convert {\n",
              "      background-color: #3B4455;\n",
              "      fill: #D2E3FC;\n",
              "    }\n",
              "\n",
              "    [theme=dark] .colab-df-convert:hover {\n",
              "      background-color: #434B5C;\n",
              "      box-shadow: 0px 1px 3px 1px rgba(0, 0, 0, 0.15);\n",
              "      filter: drop-shadow(0px 1px 2px rgba(0, 0, 0, 0.3));\n",
              "      fill: #FFFFFF;\n",
              "    }\n",
              "  </style>\n",
              "\n",
              "      <script>\n",
              "        const buttonEl =\n",
              "          document.querySelector('#df-b188612c-4183-40bd-bd79-b70806995952 button.colab-df-convert');\n",
              "        buttonEl.style.display =\n",
              "          google.colab.kernel.accessAllowed ? 'block' : 'none';\n",
              "\n",
              "        async function convertToInteractive(key) {\n",
              "          const element = document.querySelector('#df-b188612c-4183-40bd-bd79-b70806995952');\n",
              "          const dataTable =\n",
              "            await google.colab.kernel.invokeFunction('convertToInteractive',\n",
              "                                                     [key], {});\n",
              "          if (!dataTable) return;\n",
              "\n",
              "          const docLinkHtml = 'Like what you see? Visit the ' +\n",
              "            '<a target=\"_blank\" href=https://colab.research.google.com/notebooks/data_table.ipynb>data table notebook</a>'\n",
              "            + ' to learn more about interactive tables.';\n",
              "          element.innerHTML = '';\n",
              "          dataTable['output_type'] = 'display_data';\n",
              "          await google.colab.output.renderOutput(dataTable, element);\n",
              "          const docLink = document.createElement('div');\n",
              "          docLink.innerHTML = docLinkHtml;\n",
              "          element.appendChild(docLink);\n",
              "        }\n",
              "      </script>\n",
              "    </div>\n",
              "  </div>\n",
              "  "
            ]
          },
          "metadata": {},
          "execution_count": 17
        }
      ]
    },
    {
      "cell_type": "markdown",
      "source": [
        "Now create a simple plot off of the dataframe indicating the count of calls per month."
      ],
      "metadata": {
        "id": "etlOaYDISbD8"
      }
    },
    {
      "cell_type": "code",
      "source": [
        "byMonth['lat'].plot()\n"
      ],
      "metadata": {
        "colab": {
          "base_uri": "https://localhost:8080/",
          "height": 296
        },
        "id": "sWvfUCSoSd7D",
        "outputId": "9a27e961-80da-47a6-f433-7806d1ae5c51"
      },
      "execution_count": 18,
      "outputs": [
        {
          "output_type": "execute_result",
          "data": {
            "text/plain": [
              "<AxesSubplot:xlabel='Month'>"
            ]
          },
          "metadata": {},
          "execution_count": 18
        },
        {
          "output_type": "display_data",
          "data": {
            "text/plain": [
              "<Figure size 432x288 with 1 Axes>"
            ],
            "image/png": "[encoded data removed]"
          },
          "metadata": {
            "needs_background": "light"
          }
        }
      ]
    },
    {
      "cell_type": "markdown",
      "source": [
        "Now see if you can use seaborn's lmplot() to create a linear fit on the number of calls per month. Keep in mind you may need to reset the index to a column."
      ],
      "metadata": {
        "id": "UEAu_ij3SgcR"
      }
    },
    {
      "cell_type": "code",
      "source": [
        "byMonth = byMonth.reset_index()\n",
        "byMonth.head()"
      ],
      "metadata": {
        "colab": {
          "base_uri": "https://localhost:8080/",
          "height": 206
        },
        "id": "6OMZXXqBSlRh",
        "outputId": "0b8a8a79-ed54-444a-ef4a-b48ec41827c3"
      },
      "execution_count": 19,
      "outputs": [
        {
          "output_type": "execute_result",
          "data": {
            "text/plain": [
              "   Month    lat    lng   desc    zip  title  timeStamp    twp   addr      e  \\\n",
              "0    1.0  34291  34291  34291  30358  34291      34291  34279  34291  34291   \n",
              "1    2.0  21663  21663  21663  19161  21663      21663  21658  21663  21663   \n",
              "2    3.0  22743  22743  22743  20160  22743      22743  22732  22743  22743   \n",
              "3    4.0  22343  22343  22343  19671  22343      22343  22336  22343  22343   \n",
              "4    5.0  23093  23093  23093  20254  23093      23093  23082  23093  23093   \n",
              "\n",
              "    Hour  Day of Week  \n",
              "0  34291        34291  \n",
              "1  21663        21663  \n",
              "2  22743        22743  \n",
              "3  22343        22343  \n",
              "4  23093        23093  "
            ],
            "text/html": [
              "\n",
              "  <div id=\"df-d72987c1-d789-4efe-9dda-fd7e79595268\">\n",
              "    <div class=\"colab-df-container\">\n",
              "      <div>\n",
              "<style scoped>\n",
              "    .dataframe tbody tr th:only-of-type {\n",
              "        vertical-align: middle;\n",
              "    }\n",
              "\n",
              "    .dataframe tbody tr th {\n",
              "        vertical-align: top;\n",
              "    }\n",
              "\n",
              "    .dataframe thead th {\n",
              "        text-align: right;\n",
              "    }\n",
              "</style>\n",
              "<table border=\"1\" class=\"dataframe\">\n",
              "  <thead>\n",
              "    <tr style=\"text-align: right;\">\n",
              "      <th></th>\n",
              "      <th>Month</th>\n",
              "      <th>lat</th>\n",
              "      <th>lng</th>\n",
              "      <th>desc</th>\n",
              "      <th>zip</th>\n",
              "      <th>title</th>\n",
              "      <th>timeStamp</th>\n",
              "      <th>twp</th>\n",
              "      <th>addr</th>\n",
              "      <th>e</th>\n",
              "      <th>Hour</th>\n",
              "      <th>Day of Week</th>\n",
              "    </tr>\n",
              "  </thead>\n",
              "  <tbody>\n",
              "    <tr>\n",
              "      <th>0</th>\n",
              "      <td>1.0</td>\n",
              "      <td>34291</td>\n",
              "      <td>34291</td>\n",
              "      <td>34291</td>\n",
              "      <td>30358</td>\n",
              "      <td>34291</td>\n",
              "      <td>34291</td>\n",
              "      <td>34279</td>\n",
              "      <td>34291</td>\n",
              "      <td>34291</td>\n",
              "      <td>34291</td>\n",
              "      <td>34291</td>\n",
              "    </tr>\n",
              "    <tr>\n",
              "      <th>1</th>\n",
              "      <td>2.0</td>\n",
              "      <td>21663</td>\n",
              "      <td>21663</td>\n",
              "      <td>21663</td>\n",
              "      <td>19161</td>\n",
              "      <td>21663</td>\n",
              "      <td>21663</td>\n",
              "      <td>21658</td>\n",
              "      <td>21663</td>\n",
              "      <td>21663</td>\n",
              "      <td>21663</td>\n",
              "      <td>21663</td>\n",
              "    </tr>\n",
              "    <tr>\n",
              "      <th>2</th>\n",
              "      <td>3.0</td>\n",
              "      <td>22743</td>\n",
              "      <td>22743</td>\n",
              "      <td>22743</td>\n",
              "      <td>20160</td>\n",
              "      <td>22743</td>\n",
              "      <td>22743</td>\n",
              "      <td>22732</td>\n",
              "      <td>22743</td>\n",
              "      <td>22743</td>\n",
              "      <td>22743</td>\n",
              "      <td>22743</td>\n",
              "    </tr>\n",
              "    <tr>\n",
              "      <th>3</th>\n",
              "      <td>4.0</td>\n",
              "      <td>22343</td>\n",
              "      <td>22343</td>\n",
              "      <td>22343</td>\n",
              "      <td>19671</td>\n",
              "      <td>22343</td>\n",
              "      <td>22343</td>\n",
              "      <td>22336</td>\n",
              "      <td>22343</td>\n",
              "      <td>22343</td>\n",
              "      <td>22343</td>\n",
              "      <td>22343</td>\n",
              "    </tr>\n",
              "    <tr>\n",
              "      <th>4</th>\n",
              "      <td>5.0</td>\n",
              "      <td>23093</td>\n",
              "      <td>23093</td>\n",
              "      <td>23093</td>\n",
              "      <td>20254</td>\n",
              "      <td>23093</td>\n",
              "      <td>23093</td>\n",
              "      <td>23082</td>\n",
              "      <td>23093</td>\n",
              "      <td>23093</td>\n",
              "      <td>23093</td>\n",
              "      <td>23093</td>\n",
              "    </tr>\n",
              "  </tbody>\n",
              "</table>\n",
              "</div>\n",
              "      <button class=\"colab-df-convert\" onclick=\"convertToInteractive('df-d72987c1-d789-4efe-9dda-fd7e79595268')\"\n",
              "              title=\"Convert this dataframe to an interactive table.\"\n",
              "              style=\"display:none;\">\n",
              "        \n",
              "  <svg xmlns=\"http://www.w3.org/2000/svg\" height=\"24px\"viewBox=\"0 0 24 24\"\n",
              "       width=\"24px\">\n",
              "    <path d=\"M0 0h24v24H0V0z\" fill=\"none\"/>\n",
              "    <path d=\"M18.56 5.44l.94 2.06.94-2.06 2.06-.94-2.06-.94-.94-2.06-.94 2.06-2.06.94zm-11 1L8.5 8.5l.94-2.06 2.06-.94-2.06-.94L8.5 2.5l-.94 2.06-2.06.94zm10 10l.94 2.06.94-2.06 2.06-.94-2.06-.94-.94-2.06-.94 2.06-2.06.94z\"/><path d=\"M17.41 7.96l-1.37-1.37c-.4-.4-.92-.59-1.43-.59-.52 0-1.04.2-1.43.59L10.3 9.45l-7.72 7.72c-.78.78-.78 2.05 0 2.83L4 21.41c.39.39.9.59 1.41.59.51 0 1.02-.2 1.41-.59l7.78-7.78 2.81-2.81c.8-.78.8-2.07 0-2.86zM5.41 20L4 18.59l7.72-7.72 1.47 1.35L5.41 20z\"/>\n",
              "  </svg>\n",
              "      </button>\n",
              "      \n",
              "  <style>\n",
              "    .colab-df-container {\n",
              "      display:flex;\n",
              "      flex-wrap:wrap;\n",
              "      gap: 12px;\n",
              "    }\n",
              "\n",
              "    .colab-df-convert {\n",
              "      background-color: #E8F0FE;\n",
              "      border: none;\n",
              "      border-radius: 50%;\n",
              "      cursor: pointer;\n",
              "      display: none;\n",
              "      fill: #1967D2;\n",
              "      height: 32px;\n",
              "      padding: 0 0 0 0;\n",
              "      width: 32px;\n",
              "    }\n",
              "\n",
              "    .colab-df-convert:hover {\n",
              "      background-color: #E2EBFA;\n",
              "      box-shadow: 0px 1px 2px rgba(60, 64, 67, 0.3), 0px 1px 3px 1px rgba(60, 64, 67, 0.15);\n",
              "      fill: #174EA6;\n",
              "    }\n",
              "\n",
              "    [theme=dark] .colab-df-convert {\n",
              "      background-color: #3B4455;\n",
              "      fill: #D2E3FC;\n",
              "    }\n",
              "\n",
              "    [theme=dark] .colab-df-convert:hover {\n",
              "      background-color: #434B5C;\n",
              "      box-shadow: 0px 1px 3px 1px rgba(0, 0, 0, 0.15);\n",
              "      filter: drop-shadow(0px 1px 2px rgba(0, 0, 0, 0.3));\n",
              "      fill: #FFFFFF;\n",
              "    }\n",
              "  </style>\n",
              "\n",
              "      <script>\n",
              "        const buttonEl =\n",
              "          document.querySelector('#df-d72987c1-d789-4efe-9dda-fd7e79595268 button.colab-df-convert');\n",
              "        buttonEl.style.display =\n",
              "          google.colab.kernel.accessAllowed ? 'block' : 'none';\n",
              "\n",
              "        async function convertToInteractive(key) {\n",
              "          const element = document.querySelector('#df-d72987c1-d789-4efe-9dda-fd7e79595268');\n",
              "          const dataTable =\n",
              "            await google.colab.kernel.invokeFunction('convertToInteractive',\n",
              "                                                     [key], {});\n",
              "          if (!dataTable) return;\n",
              "\n",
              "          const docLinkHtml = 'Like what you see? Visit the ' +\n",
              "            '<a target=\"_blank\" href=https://colab.research.google.com/notebooks/data_table.ipynb>data table notebook</a>'\n",
              "            + ' to learn more about interactive tables.';\n",
              "          element.innerHTML = '';\n",
              "          dataTable['output_type'] = 'display_data';\n",
              "          await google.colab.output.renderOutput(dataTable, element);\n",
              "          const docLink = document.createElement('div');\n",
              "          docLink.innerHTML = docLinkHtml;\n",
              "          element.appendChild(docLink);\n",
              "        }\n",
              "      </script>\n",
              "    </div>\n",
              "  </div>\n",
              "  "
            ]
          },
          "metadata": {},
          "execution_count": 19
        }
      ]
    },
    {
      "cell_type": "markdown",
      "source": [
        " Create a new column called 'Date' that contains the date from the timeStamp column. You'll need to use apply along with the .date() method."
      ],
      "metadata": {
        "id": "JXf1w5oBSol4"
      }
    },
    {
      "cell_type": "code",
      "source": [
        "df['Date'] = df['timeStamp'].apply(lambda x: x.date())\n",
        "df.head()\n"
      ],
      "metadata": {
        "colab": {
          "base_uri": "https://localhost:8080/",
          "height": 475
        },
        "id": "_Y7AeuTjSs--",
        "outputId": "5c79181e-2942-424b-c5e2-6b61d5c43187"
      },
      "execution_count": 20,
      "outputs": [
        {
          "output_type": "execute_result",
          "data": {
            "text/plain": [
              "         lat        lng                                               desc  \\\n",
              "0  40.297876 -75.581294  REINDEER CT & DEAD END;  NEW HANOVER; Station ...   \n",
              "1  40.258061 -75.264680  BRIAR PATH & WHITEMARSH LN;  HATFIELD TOWNSHIP...   \n",
              "2  40.121182 -75.351975  HAWS AVE; NORRISTOWN; 2015-12-10 @ 14:39:21-St...   \n",
              "3  40.116153 -75.343513  AIRY ST & SWEDE ST;  NORRISTOWN; Station 308A;...   \n",
              "4  40.251492 -75.603350  CHERRYWOOD CT & DEAD END;  LOWER POTTSGROVE; S...   \n",
              "\n",
              "       zip                    title           timeStamp                twp  \\\n",
              "0  19525.0   EMS: BACK PAINS/INJURY 2015-12-10 17:10:52        NEW HANOVER   \n",
              "1  19446.0  EMS: DIABETIC EMERGENCY 2015-12-10 17:29:21  HATFIELD TOWNSHIP   \n",
              "2  19401.0      Fire: GAS-ODOR/LEAK 2015-12-10 14:39:21         NORRISTOWN   \n",
              "3  19401.0   EMS: CARDIAC EMERGENCY 2015-12-10 16:47:36         NORRISTOWN   \n",
              "4      NaN           EMS: DIZZINESS 2015-12-10 16:56:52   LOWER POTTSGROVE   \n",
              "\n",
              "                         addr    e  Hour  Month  Day of Week        Date  \n",
              "0      REINDEER CT & DEAD END  1.0  17.0   12.0          3.0  2015-12-10  \n",
              "1  BRIAR PATH & WHITEMARSH LN  1.0  17.0   12.0          3.0  2015-12-10  \n",
              "2                    HAWS AVE  1.0  14.0   12.0          3.0  2015-12-10  \n",
              "3          AIRY ST & SWEDE ST  1.0  16.0   12.0          3.0  2015-12-10  \n",
              "4    CHERRYWOOD CT & DEAD END  1.0  16.0   12.0          3.0  2015-12-10  "
            ],
            "text/html": [
              "\n",
              "  <div id=\"df-de50cb46-8fdf-453d-b96e-e654a410b682\">\n",
              "    <div class=\"colab-df-container\">\n",
              "      <div>\n",
              "<style scoped>\n",
              "    .dataframe tbody tr th:only-of-type {\n",
              "        vertical-align: middle;\n",
              "    }\n",
              "\n",
              "    .dataframe tbody tr th {\n",
              "        vertical-align: top;\n",
              "    }\n",
              "\n",
              "    .dataframe thead th {\n",
              "        text-align: right;\n",
              "    }\n",
              "</style>\n",
              "<table border=\"1\" class=\"dataframe\">\n",
              "  <thead>\n",
              "    <tr style=\"text-align: right;\">\n",
              "      <th></th>\n",
              "      <th>lat</th>\n",
              "      <th>lng</th>\n",
              "      <th>desc</th>\n",
              "      <th>zip</th>\n",
              "      <th>title</th>\n",
              "      <th>timeStamp</th>\n",
              "      <th>twp</th>\n",
              "      <th>addr</th>\n",
              "      <th>e</th>\n",
              "      <th>Hour</th>\n",
              "      <th>Month</th>\n",
              "      <th>Day of Week</th>\n",
              "      <th>Date</th>\n",
              "    </tr>\n",
              "  </thead>\n",
              "  <tbody>\n",
              "    <tr>\n",
              "      <th>0</th>\n",
              "      <td>40.297876</td>\n",
              "      <td>-75.581294</td>\n",
              "      <td>REINDEER CT &amp; DEAD END;  NEW HANOVER; Station ...</td>\n",
              "      <td>19525.0</td>\n",
              "      <td>EMS: BACK PAINS/INJURY</td>\n",
              "      <td>2015-12-10 17:10:52</td>\n",
              "      <td>NEW HANOVER</td>\n",
              "      <td>REINDEER CT &amp; DEAD END</td>\n",
              "      <td>1.0</td>\n",
              "      <td>17.0</td>\n",
              "      <td>12.0</td>\n",
              "      <td>3.0</td>\n",
              "      <td>2015-12-10</td>\n",
              "    </tr>\n",
              "    <tr>\n",
              "      <th>1</th>\n",
              "      <td>40.258061</td>\n",
              "      <td>-75.264680</td>\n",
              "      <td>BRIAR PATH &amp; WHITEMARSH LN;  HATFIELD TOWNSHIP...</td>\n",
              "      <td>19446.0</td>\n",
              "      <td>EMS: DIABETIC EMERGENCY</td>\n",
              "      <td>2015-12-10 17:29:21</td>\n",
              "      <td>HATFIELD TOWNSHIP</td>\n",
              "      <td>BRIAR PATH &amp; WHITEMARSH LN</td>\n",
              "      <td>1.0</td>\n",
              "      <td>17.0</td>\n",
              "      <td>12.0</td>\n",
              "      <td>3.0</td>\n",
              "      <td>2015-12-10</td>\n",
              "    </tr>\n",
              "    <tr>\n",
              "      <th>2</th>\n",
              "      <td>40.121182</td>\n",
              "      <td>-75.351975</td>\n",
              "      <td>HAWS AVE; NORRISTOWN; 2015-12-10 @ 14:39:21-St...</td>\n",
              "      <td>19401.0</td>\n",
              "      <td>Fire: GAS-ODOR/LEAK</td>\n",
              "      <td>2015-12-10 14:39:21</td>\n",
              "      <td>NORRISTOWN</td>\n",
              "      <td>HAWS AVE</td>\n",
              "      <td>1.0</td>\n",
              "      <td>14.0</td>\n",
              "      <td>12.0</td>\n",
              "      <td>3.0</td>\n",
              "      <td>2015-12-10</td>\n",
              "    </tr>\n",
              "    <tr>\n",
              "      <th>3</th>\n",
              "      <td>40.116153</td>\n",
              "      <td>-75.343513</td>\n",
              "      <td>AIRY ST &amp; SWEDE ST;  NORRISTOWN; Station 308A;...</td>\n",
              "      <td>19401.0</td>\n",
              "      <td>EMS: CARDIAC EMERGENCY</td>\n",
              "      <td>2015-12-10 16:47:36</td>\n",
              "      <td>NORRISTOWN</td>\n",
              "      <td>AIRY ST &amp; SWEDE ST</td>\n",
              "      <td>1.0</td>\n",
              "      <td>16.0</td>\n",
              "      <td>12.0</td>\n",
              "      <td>3.0</td>\n",
              "      <td>2015-12-10</td>\n",
              "    </tr>\n",
              "    <tr>\n",
              "      <th>4</th>\n",
              "      <td>40.251492</td>\n",
              "      <td>-75.603350</td>\n",
              "      <td>CHERRYWOOD CT &amp; DEAD END;  LOWER POTTSGROVE; S...</td>\n",
              "      <td>NaN</td>\n",
              "      <td>EMS: DIZZINESS</td>\n",
              "      <td>2015-12-10 16:56:52</td>\n",
              "      <td>LOWER POTTSGROVE</td>\n",
              "      <td>CHERRYWOOD CT &amp; DEAD END</td>\n",
              "      <td>1.0</td>\n",
              "      <td>16.0</td>\n",
              "      <td>12.0</td>\n",
              "      <td>3.0</td>\n",
              "      <td>2015-12-10</td>\n",
              "    </tr>\n",
              "  </tbody>\n",
              "</table>\n",
              "</div>\n",
              "      <button class=\"colab-df-convert\" onclick=\"convertToInteractive('df-de50cb46-8fdf-453d-b96e-e654a410b682')\"\n",
              "              title=\"Convert this dataframe to an interactive table.\"\n",
              "              style=\"display:none;\">\n",
              "        \n",
              "  <svg xmlns=\"http://www.w3.org/2000/svg\" height=\"24px\"viewBox=\"0 0 24 24\"\n",
              "       width=\"24px\">\n",
              "    <path d=\"M0 0h24v24H0V0z\" fill=\"none\"/>\n",
              "    <path d=\"M18.56 5.44l.94 2.06.94-2.06 2.06-.94-2.06-.94-.94-2.06-.94 2.06-2.06.94zm-11 1L8.5 8.5l.94-2.06 2.06-.94-2.06-.94L8.5 2.5l-.94 2.06-2.06.94zm10 10l.94 2.06.94-2.06 2.06-.94-2.06-.94-.94-2.06-.94 2.06-2.06.94z\"/><path d=\"M17.41 7.96l-1.37-1.37c-.4-.4-.92-.59-1.43-.59-.52 0-1.04.2-1.43.59L10.3 9.45l-7.72 7.72c-.78.78-.78 2.05 0 2.83L4 21.41c.39.39.9.59 1.41.59.51 0 1.02-.2 1.41-.59l7.78-7.78 2.81-2.81c.8-.78.8-2.07 0-2.86zM5.41 20L4 18.59l7.72-7.72 1.47 1.35L5.41 20z\"/>\n",
              "  </svg>\n",
              "      </button>\n",
              "      \n",
              "  <style>\n",
              "    .colab-df-container {\n",
              "      display:flex;\n",
              "      flex-wrap:wrap;\n",
              "      gap: 12px;\n",
              "    }\n",
              "\n",
              "    .colab-df-convert {\n",
              "      background-color: #E8F0FE;\n",
              "      border: none;\n",
              "      border-radius: 50%;\n",
              "      cursor: pointer;\n",
              "      display: none;\n",
              "      fill: #1967D2;\n",
              "      height: 32px;\n",
              "      padding: 0 0 0 0;\n",
              "      width: 32px;\n",
              "    }\n",
              "\n",
              "    .colab-df-convert:hover {\n",
              "      background-color: #E2EBFA;\n",
              "      box-shadow: 0px 1px 2px rgba(60, 64, 67, 0.3), 0px 1px 3px 1px rgba(60, 64, 67, 0.15);\n",
              "      fill: #174EA6;\n",
              "    }\n",
              "\n",
              "    [theme=dark] .colab-df-convert {\n",
              "      background-color: #3B4455;\n",
              "      fill: #D2E3FC;\n",
              "    }\n",
              "\n",
              "    [theme=dark] .colab-df-convert:hover {\n",
              "      background-color: #434B5C;\n",
              "      box-shadow: 0px 1px 3px 1px rgba(0, 0, 0, 0.15);\n",
              "      filter: drop-shadow(0px 1px 2px rgba(0, 0, 0, 0.3));\n",
              "      fill: #FFFFFF;\n",
              "    }\n",
              "  </style>\n",
              "\n",
              "      <script>\n",
              "        const buttonEl =\n",
              "          document.querySelector('#df-de50cb46-8fdf-453d-b96e-e654a410b682 button.colab-df-convert');\n",
              "        buttonEl.style.display =\n",
              "          google.colab.kernel.accessAllowed ? 'block' : 'none';\n",
              "\n",
              "        async function convertToInteractive(key) {\n",
              "          const element = document.querySelector('#df-de50cb46-8fdf-453d-b96e-e654a410b682');\n",
              "          const dataTable =\n",
              "            await google.colab.kernel.invokeFunction('convertToInteractive',\n",
              "                                                     [key], {});\n",
              "          if (!dataTable) return;\n",
              "\n",
              "          const docLinkHtml = 'Like what you see? Visit the ' +\n",
              "            '<a target=\"_blank\" href=https://colab.research.google.com/notebooks/data_table.ipynb>data table notebook</a>'\n",
              "            + ' to learn more about interactive tables.';\n",
              "          element.innerHTML = '';\n",
              "          dataTable['output_type'] = 'display_data';\n",
              "          await google.colab.output.renderOutput(dataTable, element);\n",
              "          const docLink = document.createElement('div');\n",
              "          docLink.innerHTML = docLinkHtml;\n",
              "          element.appendChild(docLink);\n",
              "        }\n",
              "      </script>\n",
              "    </div>\n",
              "  </div>\n",
              "  "
            ]
          },
          "metadata": {},
          "execution_count": 20
        }
      ]
    },
    {
      "cell_type": "markdown",
      "source": [
        "Now groupby this Date column with the count() aggregate and create a plot of counts of 911 calls."
      ],
      "metadata": {
        "id": "MkWmGXJdSwA3"
      }
    },
    {
      "cell_type": "code",
      "source": [
        "df.groupby(by='Date').count()['lat'].plot()\n",
        "plt.tight_layout()"
      ],
      "metadata": {
        "colab": {
          "base_uri": "https://localhost:8080/",
          "height": 297
        },
        "id": "C_zBPSTTSyVD",
        "outputId": "92edf217-baa4-4d1e-c0b3-b7e0e86b97cd"
      },
      "execution_count": 21,
      "outputs": [
        {
          "output_type": "display_data",
          "data": {
            "text/plain": [
              "<Figure size 432x288 with 1 Axes>"
            ],
            "image/png": "[encoded data removed]"
          },
          "metadata": {
            "needs_background": "light"
          }
        }
      ]
    },
    {
      "cell_type": "markdown",
      "source": [
        "Now recreate this plot but create 3 separate plots with each plot representing a Reason for the 911 call"
      ],
      "metadata": {
        "id": "WP2WwLO5S17h"
      }
    },
    {
      "cell_type": "code",
      "source": [
        "df_traffic = df[df['Reason'] == 'Traffic']\n",
        "df_traffic.groupby('Date').count()['twp'].plot()\n",
        "plt.title('Traffic')\n",
        "plt.tight_layout()"
      ],
      "metadata": {
        "id": "-PQd3XZiS45z"
      },
      "execution_count": null,
      "outputs": []
    },
    {
      "cell_type": "code",
      "source": [
        "df_traffic = df[df['Reason'] == 'Fire']\n",
        "df_traffic.groupby('Date').count()['twp'].plot()\n",
        "plt.title('Fire')\n",
        "plt.tight_layout()"
      ],
      "metadata": {
        "id": "jVwgnDw1TBrP"
      },
      "execution_count": null,
      "outputs": []
    },
    {
      "cell_type": "code",
      "source": [
        "df_traffic = df[df['Reason'] == 'EMS']\n",
        "df_traffic.groupby('Date').count()['twp'].plot()\n",
        "plt.title('EMS')\n",
        "plt.tight_layout()"
      ],
      "metadata": {
        "id": "H3Mq3BPOTCgz"
      },
      "execution_count": null,
      "outputs": []
    },
    {
      "cell_type": "markdown",
      "source": [
        " Now let's move on to creating heatmaps with seaborn and our data. We'll first need to restructure the dataframe so that the columns become the Hours and the Index becomes the Day of the Week. There are lots of ways to do this, but I would recommend trying to combine groupby with an unstack method. Reference the solutions if you get stuck on this!"
      ],
      "metadata": {
        "id": "ZA-opvu_TJQO"
      }
    },
    {
      "cell_type": "code",
      "source": [
        "dayHour = df.groupby(['Day of Week','Hour']).count().unstack()['Reason']\n",
        "dayHour.head()"
      ],
      "metadata": {
        "id": "QyEBtQuUTLPb"
      },
      "execution_count": null,
      "outputs": []
    },
    {
      "cell_type": "code",
      "source": [
        "plt.figure(figsize=(12,6))\n",
        "sns.heatmap(dayHour,cmap='Blues')"
      ],
      "metadata": {
        "id": "RV5uDq25TQ5Q"
      },
      "execution_count": null,
      "outputs": []
    }
  ]
}